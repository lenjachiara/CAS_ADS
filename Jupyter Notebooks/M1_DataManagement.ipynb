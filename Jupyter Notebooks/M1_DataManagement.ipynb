{
  "cells": [
    {
      "cell_type": "markdown",
      "metadata": {
        "colab_type": "text",
        "id": "view-in-github"
      },
      "source": [
        "<a href=\"https://colab.research.google.com/github/sigvehaug/CAS-Applied-Data-Science/blob/master/Module-1/M1_D1_DM.ipynb\" target=\"_parent\"><img src=\"https://colab.research.google.com/assets/colab-badge.svg\" alt=\"Open In Colab\"/></a>"
      ]
    },
    {
      "cell_type": "markdown",
      "metadata": {
        "id": "dOSMpeOK06p8"
      },
      "source": [
        "Notebook 1, Module 1, Data and Data Management, CAS Applied Data Science, 2023-08-23, S. Haug, University of Bern.\n"
      ]
    },
    {
      "cell_type": "markdown",
      "metadata": {
        "id": "ljJDZt-n6zPw"
      },
      "source": [
        "Prerequisite for this notebook is some basic Python experience.\n",
        "\n",
        "Please also look at the first batch of [these slides](https://docs.google.com/presentation/d/1BrlQQGDnEpr8lBiEd9uO-Kw2-WOInAEP-cv-xdUwB4Y/edit?usp=sharing) before doing this notebook. They offer an introduction to data.\n",
        "\n",
        "ChatGPT is able to write most of the code needed for this notebook. Please use it if you like !"
      ]
    },
    {
      "cell_type": "markdown",
      "metadata": {
        "id": "OAVKazfU06p-"
      },
      "source": [
        "# 1. Data Management\n",
        "\n",
        "Estimated study time is about 2 hours. According to your background and how much you want to learn, you may need more or less. You are supposed to google, read manuals and chat with others during working through this notebook in order to benefit fully.\n",
        "\n",
        "**Learning outcomes - after completion you**\n",
        "- Know about data sources, types and formats (see lecture slides via link above)\n",
        "- Able to import and export data in Python\n",
        "- Able to do simple things with dataframes in Python\n",
        "- Know about data volumes, metadata and quality\n",
        "- Able to plot histograms and scatter plots in Python (tomorrow)\n",
        "\n",
        "**Documentation on Pandas DataFrame**\n",
        "- Python: https://pandas.pydata.org/pandas-docs/stable/generated/pandas.DataFrame.html\n",
        "\n",
        "## Outline\n",
        "\n",
        "     0. About data management\n",
        "     1. Getting used to Jupyter notebooks / colab\n",
        "     2. Import datasets into a Python dataframe\n",
        "     3. Indexing on a dataframe\n",
        "     4. Sorting\n",
        "     5. Filtering\n",
        "     6. Exporting\n",
        "     7. Missing and bad data\n",
        "     8. Metadata\n",
        "     9. Working on the filesystem\n"
      ]
    },
    {
      "cell_type": "markdown",
      "metadata": {
        "id": "P0o4Jxdy06qA"
      },
      "source": [
        "**My Notes:**\n",
        "\n",
        "In General: On Google Colab you can use their server, which means you dont have to use your local memory. For advanced machine learning Google Colab also offers GPU, which is needed for lots of data. When using Patient data or confidential data you have to do it locally, Google Colab is not allowed as it is of course not a 'protected' space."
      ]
    },
    {
      "cell_type": "markdown",
      "metadata": {
        "id": "0xY2gyiE06qA"
      },
      "source": [
        "### 0. About data management"
      ]
    },
    {
      "cell_type": "markdown",
      "metadata": {
        "id": "nFyhF-jp06qB"
      },
      "source": [
        "Handling or managing data involves many steps and technologies at many levels. Data may be colleccted by sensors. It can be a camera, a temperature sensor, a telescope, a microscope (with a camera), a microphone, a particle detector etc. Normally the data is then digitised, maybe preprocessed and written to some media in a certain format, e.g. as a comma separated value (csv) file to a hard disk. This part of the data management is normally taken care of by engineers.\n",
        "\n",
        "Data may also be collected from all sorts of databases, so data already collected somehow. Time series of financial data, customers, passengers, facebook likes, twitter tweets etc. This is data which is normally already on a media with some interface for access, e.g. paper to be read by a camera, a file on youtube, a table on wikipedia etc. We will look at some ways to collect such data. Some programming and computer skills are needed to do so. It may be that this part of the data management is taken care of by specialised computer scientists, but it may also be expected from a data scientist to have these skills.\n",
        "\n",
        "Analysing data with statisitical and machine learning tools, requires that the data is colleceted, cleaned and prepared for the tools. This is very often a very large part of a data analytics project and a prerequisite. It may involve removing bad data, filter out redundant and noisy data, unify the formats and types, transform the data etc.\n",
        "Thus, a data scientist must be able to perform this part of the data management. This notebook shows the basic operations with Python pandas. With other tools the concepts and operations are very similar.\n",
        "\n",
        "After the data analysis, after the extraction of information and the creation of knowledge, the data is often stored or archived for the future (if this seems cheaper than regenerating the data at a later point). In larger institutions this part of the data management may include educated librarians and others, not necessarily the data scientist.  \n",
        "\n",
        "**In this notebook we only look at a few examples on how to do datamanagement with dataframes. Pandas are extremly powerful and we cannot show everything in a couple of hours. You will become more and more experienced when you work on your module projects. Probably whatever you want to do with your dataframe, there is a way to do it. If not, it probably doesn't make much sense what wou want to do.**\n",
        "\n",
        "Any questions?\n"
      ]
    },
    {
      "cell_type": "markdown",
      "metadata": {
        "id": "z4HJ8cnp06qC"
      },
      "source": [
        "### 1. Getting used to Jupyter computational notebooks and Colab\n",
        "\n",
        "With Jupyter you can write rich text notebooks with executable code via your browser. There are several so-called kernels or computational back ends, i.e Python, R, Julia, bash etc can be supported. The text is written as Markdown. Latex is also supported (good for math). You can export the notebook in various formats, e.g. html. Everything can be done via the various tabs, however, the key shortcuts make you faster.\n",
        "\n",
        "*Useful key combinations*\n",
        "\n",
        "- Shift Enter or Control Enter = Run cell\n",
        "- Option/Alt Enter = Run cell and Insert new cell below\n",
        "\n",
        "### Exercise 1 (10 min)\n",
        "- Change and run this cell\n",
        "- Add a new cell and execute some python statement in it\n",
        "- Study the tabs in the menu of your jupyter (lab) notebook"
      ]
    },
    {
      "cell_type": "code",
      "execution_count": 2,
      "metadata": {
        "id": "3tn_Bnh606qC"
      },
      "outputs": [
        {
          "name": "stdout",
          "output_type": "stream",
          "text": [
            "Hello Lenja. Have a nice day\n"
          ]
        }
      ],
      "source": [
        "# Write some more Python code here\n",
        "print('Hello Lenja. Have a nice day')\n"
      ]
    },
    {
      "cell_type": "markdown",
      "metadata": {
        "id": "9Yy0P4Q006qD"
      },
      "source": [
        "### 2. Import a dataset into a Pandas DataFrame\n",
        "\n",
        "Pandas is a Python Module for data analysis and manipulation and management. It has the data structure DataFrame which is quite powerful. Features\n",
        "\n",
        "- DataFrame object for data management with integrated indexing.\n",
        "- Tools for reading and writing data between in-memory data structures and different file formats.\n",
        "- Data alignment and integrated handling of missing data.\n",
        "- Reshaping and pivoting of data sets.\n",
        "- Label-based slicing, fancy indexing, and subsetting of large data sets.\n",
        "- Data structure column insertion and deletion.\n",
        "- Group by engine allowing split-apply-combine operations on data sets.\n",
        "- Data set merging and joining.\n",
        "- Hierarchical axis indexing to work with high-dimensional data in a lower-dimensional data structure.\n",
        "- Time series-functionality: Date range generation and frequency conversion, moving window statistics, moving window linear regressions, date shifting and lagging.\n",
        "\n",
        "The module is highly optimized for performance, with critical code parts written in Cython or C. Documentation here: https://pandas.pydata.org/pandas-docs/stable/api.html\n",
        "\n",
        "For input/output (I/O) there are methods for reading EXCEL, SQL databases, HTML tables, clipboard, SAS, STATA etc."
      ]
    },
    {
      "cell_type": "code",
      "execution_count": 3,
      "metadata": {
        "id": "2va7jftt06qF"
      },
      "outputs": [],
      "source": [
        "#Upload the local data file to colab --> google provides predefined commands for this when using colab, see below\n",
        "#from google.colab import files\n",
        "#uploaded = files.upload()\n",
        "\n",
        "\n"
      ]
    },
    {
      "cell_type": "code",
      "execution_count": 4,
      "metadata": {
        "id": "Fcu5tlR106qG"
      },
      "outputs": [
        {
          "data": {
            "text/html": [
              "<div>\n",
              "<style scoped>\n",
              "    .dataframe tbody tr th:only-of-type {\n",
              "        vertical-align: middle;\n",
              "    }\n",
              "\n",
              "    .dataframe tbody tr th {\n",
              "        vertical-align: top;\n",
              "    }\n",
              "\n",
              "    .dataframe thead th {\n",
              "        text-align: right;\n",
              "    }\n",
              "</style>\n",
              "<table border=\"1\" class=\"dataframe\">\n",
              "  <thead>\n",
              "    <tr style=\"text-align: right;\">\n",
              "      <th></th>\n",
              "      <th>5.1</th>\n",
              "      <th>3.5</th>\n",
              "      <th>1.4</th>\n",
              "      <th>0.2</th>\n",
              "      <th>Iris-setosa</th>\n",
              "    </tr>\n",
              "  </thead>\n",
              "  <tbody>\n",
              "    <tr>\n",
              "      <th>0</th>\n",
              "      <td>4.9</td>\n",
              "      <td>3.0</td>\n",
              "      <td>1.4</td>\n",
              "      <td>0.2</td>\n",
              "      <td>Iris-setosa</td>\n",
              "    </tr>\n",
              "    <tr>\n",
              "      <th>1</th>\n",
              "      <td>4.7</td>\n",
              "      <td>3.2</td>\n",
              "      <td>1.3</td>\n",
              "      <td>0.2</td>\n",
              "      <td>Iris-setosa</td>\n",
              "    </tr>\n",
              "    <tr>\n",
              "      <th>2</th>\n",
              "      <td>4.6</td>\n",
              "      <td>3.1</td>\n",
              "      <td>1.5</td>\n",
              "      <td>0.2</td>\n",
              "      <td>Iris-setosa</td>\n",
              "    </tr>\n",
              "    <tr>\n",
              "      <th>3</th>\n",
              "      <td>5.0</td>\n",
              "      <td>3.6</td>\n",
              "      <td>1.4</td>\n",
              "      <td>0.2</td>\n",
              "      <td>Iris-setosa</td>\n",
              "    </tr>\n",
              "    <tr>\n",
              "      <th>4</th>\n",
              "      <td>5.4</td>\n",
              "      <td>3.9</td>\n",
              "      <td>1.7</td>\n",
              "      <td>0.4</td>\n",
              "      <td>Iris-setosa</td>\n",
              "    </tr>\n",
              "    <tr>\n",
              "      <th>...</th>\n",
              "      <td>...</td>\n",
              "      <td>...</td>\n",
              "      <td>...</td>\n",
              "      <td>...</td>\n",
              "      <td>...</td>\n",
              "    </tr>\n",
              "    <tr>\n",
              "      <th>144</th>\n",
              "      <td>6.7</td>\n",
              "      <td>3.0</td>\n",
              "      <td>5.2</td>\n",
              "      <td>2.3</td>\n",
              "      <td>Iris-virginica</td>\n",
              "    </tr>\n",
              "    <tr>\n",
              "      <th>145</th>\n",
              "      <td>6.3</td>\n",
              "      <td>2.5</td>\n",
              "      <td>5.0</td>\n",
              "      <td>1.9</td>\n",
              "      <td>Iris-virginica</td>\n",
              "    </tr>\n",
              "    <tr>\n",
              "      <th>146</th>\n",
              "      <td>6.5</td>\n",
              "      <td>3.0</td>\n",
              "      <td>5.2</td>\n",
              "      <td>2.0</td>\n",
              "      <td>Iris-virginica</td>\n",
              "    </tr>\n",
              "    <tr>\n",
              "      <th>147</th>\n",
              "      <td>6.2</td>\n",
              "      <td>3.4</td>\n",
              "      <td>5.4</td>\n",
              "      <td>2.3</td>\n",
              "      <td>Iris-virginica</td>\n",
              "    </tr>\n",
              "    <tr>\n",
              "      <th>148</th>\n",
              "      <td>5.9</td>\n",
              "      <td>3.0</td>\n",
              "      <td>5.1</td>\n",
              "      <td>1.8</td>\n",
              "      <td>Iris-virginica</td>\n",
              "    </tr>\n",
              "  </tbody>\n",
              "</table>\n",
              "<p>149 rows × 5 columns</p>\n",
              "</div>"
            ],
            "text/plain": [
              "     5.1  3.5  1.4  0.2     Iris-setosa\n",
              "0    4.9  3.0  1.4  0.2     Iris-setosa\n",
              "1    4.7  3.2  1.3  0.2     Iris-setosa\n",
              "2    4.6  3.1  1.5  0.2     Iris-setosa\n",
              "3    5.0  3.6  1.4  0.2     Iris-setosa\n",
              "4    5.4  3.9  1.7  0.4     Iris-setosa\n",
              "..   ...  ...  ...  ...             ...\n",
              "144  6.7  3.0  5.2  2.3  Iris-virginica\n",
              "145  6.3  2.5  5.0  1.9  Iris-virginica\n",
              "146  6.5  3.0  5.2  2.0  Iris-virginica\n",
              "147  6.2  3.4  5.4  2.3  Iris-virginica\n",
              "148  5.9  3.0  5.1  1.8  Iris-virginica\n",
              "\n",
              "[149 rows x 5 columns]"
            ]
          },
          "execution_count": 4,
          "metadata": {},
          "output_type": "execute_result"
        }
      ],
      "source": [
        "# import the python module pandas with the abbreviation pd\n",
        "import pandas as pd\n",
        "# Read the data in the iris.csv file into a dataframe\n",
        "iris_df = pd.read_csv('iris.csv')\n",
        "\n",
        "iris_df"
      ]
    },
    {
      "cell_type": "markdown",
      "metadata": {},
      "source": [
        "**Important Info about Pandas:**\n",
        "\n",
        "If we do operations on our Pandas Dataframe, we are always changing the dataframe. Pandas does not make a copy as that would require too much memory space. Hence if you want to copy instead of change the original dataframe, you have to use a copy command!\n",
        "\n",
        "**Info on Python Datatypes**\n",
        "\n",
        "Python guesses the data type of a variable, this is called 'implicit declaration'. We don't need to tell Python explicitly if our number is an integer or a float. This has implications for memory and speed because Python has to 'guess' and define the data by itself first.\n",
        "\n",
        "**When to use Pandas and when to use Numpy**\n",
        "\n",
        "Use Numpy when it becomes mathematical. If it is more about data cleaning, data handling etc. it is easier to use pandas."
      ]
    },
    {
      "cell_type": "markdown",
      "metadata": {
        "id": "OKvS45Aq06qH"
      },
      "source": [
        "The dataframe method shows 50 rows per default. We can change this as we like:\n"
      ]
    },
    {
      "cell_type": "code",
      "execution_count": 5,
      "metadata": {
        "id": "odf02zpP06qI"
      },
      "outputs": [
        {
          "data": {
            "text/html": [
              "<div>\n",
              "<style scoped>\n",
              "    .dataframe tbody tr th:only-of-type {\n",
              "        vertical-align: middle;\n",
              "    }\n",
              "\n",
              "    .dataframe tbody tr th {\n",
              "        vertical-align: top;\n",
              "    }\n",
              "\n",
              "    .dataframe thead th {\n",
              "        text-align: right;\n",
              "    }\n",
              "</style>\n",
              "<table border=\"1\" class=\"dataframe\">\n",
              "  <thead>\n",
              "    <tr style=\"text-align: right;\">\n",
              "      <th></th>\n",
              "      <th>5.1</th>\n",
              "      <th>3.5</th>\n",
              "      <th>1.4</th>\n",
              "      <th>0.2</th>\n",
              "      <th>Iris-setosa</th>\n",
              "    </tr>\n",
              "  </thead>\n",
              "  <tbody>\n",
              "    <tr>\n",
              "      <th>0</th>\n",
              "      <td>4.9</td>\n",
              "      <td>3.0</td>\n",
              "      <td>1.4</td>\n",
              "      <td>0.2</td>\n",
              "      <td>Iris-setosa</td>\n",
              "    </tr>\n",
              "    <tr>\n",
              "      <th>1</th>\n",
              "      <td>4.7</td>\n",
              "      <td>3.2</td>\n",
              "      <td>1.3</td>\n",
              "      <td>0.2</td>\n",
              "      <td>Iris-setosa</td>\n",
              "    </tr>\n",
              "    <tr>\n",
              "      <th>2</th>\n",
              "      <td>4.6</td>\n",
              "      <td>3.1</td>\n",
              "      <td>1.5</td>\n",
              "      <td>0.2</td>\n",
              "      <td>Iris-setosa</td>\n",
              "    </tr>\n",
              "    <tr>\n",
              "      <th>3</th>\n",
              "      <td>5.0</td>\n",
              "      <td>3.6</td>\n",
              "      <td>1.4</td>\n",
              "      <td>0.2</td>\n",
              "      <td>Iris-setosa</td>\n",
              "    </tr>\n",
              "    <tr>\n",
              "      <th>4</th>\n",
              "      <td>5.4</td>\n",
              "      <td>3.9</td>\n",
              "      <td>1.7</td>\n",
              "      <td>0.4</td>\n",
              "      <td>Iris-setosa</td>\n",
              "    </tr>\n",
              "    <tr>\n",
              "      <th>5</th>\n",
              "      <td>4.6</td>\n",
              "      <td>3.4</td>\n",
              "      <td>1.4</td>\n",
              "      <td>0.3</td>\n",
              "      <td>Iris-setosa</td>\n",
              "    </tr>\n",
              "    <tr>\n",
              "      <th>6</th>\n",
              "      <td>5.0</td>\n",
              "      <td>3.4</td>\n",
              "      <td>1.5</td>\n",
              "      <td>0.2</td>\n",
              "      <td>Iris-setosa</td>\n",
              "    </tr>\n",
              "    <tr>\n",
              "      <th>7</th>\n",
              "      <td>4.4</td>\n",
              "      <td>2.9</td>\n",
              "      <td>1.4</td>\n",
              "      <td>0.2</td>\n",
              "      <td>Iris-setosa</td>\n",
              "    </tr>\n",
              "    <tr>\n",
              "      <th>8</th>\n",
              "      <td>4.9</td>\n",
              "      <td>3.1</td>\n",
              "      <td>1.5</td>\n",
              "      <td>0.1</td>\n",
              "      <td>Iris-setosa</td>\n",
              "    </tr>\n",
              "    <tr>\n",
              "      <th>9</th>\n",
              "      <td>5.4</td>\n",
              "      <td>3.7</td>\n",
              "      <td>1.5</td>\n",
              "      <td>0.2</td>\n",
              "      <td>Iris-setosa</td>\n",
              "    </tr>\n",
              "    <tr>\n",
              "      <th>10</th>\n",
              "      <td>4.8</td>\n",
              "      <td>3.4</td>\n",
              "      <td>1.6</td>\n",
              "      <td>0.2</td>\n",
              "      <td>Iris-setosa</td>\n",
              "    </tr>\n",
              "    <tr>\n",
              "      <th>11</th>\n",
              "      <td>4.8</td>\n",
              "      <td>3.0</td>\n",
              "      <td>1.4</td>\n",
              "      <td>0.1</td>\n",
              "      <td>Iris-setosa</td>\n",
              "    </tr>\n",
              "    <tr>\n",
              "      <th>12</th>\n",
              "      <td>4.3</td>\n",
              "      <td>3.0</td>\n",
              "      <td>1.1</td>\n",
              "      <td>0.1</td>\n",
              "      <td>Iris-setosa</td>\n",
              "    </tr>\n",
              "    <tr>\n",
              "      <th>13</th>\n",
              "      <td>5.8</td>\n",
              "      <td>4.0</td>\n",
              "      <td>1.2</td>\n",
              "      <td>0.2</td>\n",
              "      <td>Iris-setosa</td>\n",
              "    </tr>\n",
              "    <tr>\n",
              "      <th>14</th>\n",
              "      <td>5.7</td>\n",
              "      <td>4.4</td>\n",
              "      <td>1.5</td>\n",
              "      <td>0.4</td>\n",
              "      <td>Iris-setosa</td>\n",
              "    </tr>\n",
              "    <tr>\n",
              "      <th>15</th>\n",
              "      <td>5.4</td>\n",
              "      <td>3.9</td>\n",
              "      <td>1.3</td>\n",
              "      <td>0.4</td>\n",
              "      <td>Iris-setosa</td>\n",
              "    </tr>\n",
              "    <tr>\n",
              "      <th>16</th>\n",
              "      <td>5.1</td>\n",
              "      <td>3.5</td>\n",
              "      <td>1.4</td>\n",
              "      <td>0.3</td>\n",
              "      <td>Iris-setosa</td>\n",
              "    </tr>\n",
              "    <tr>\n",
              "      <th>17</th>\n",
              "      <td>5.7</td>\n",
              "      <td>3.8</td>\n",
              "      <td>1.7</td>\n",
              "      <td>0.3</td>\n",
              "      <td>Iris-setosa</td>\n",
              "    </tr>\n",
              "    <tr>\n",
              "      <th>18</th>\n",
              "      <td>5.1</td>\n",
              "      <td>3.8</td>\n",
              "      <td>1.5</td>\n",
              "      <td>0.3</td>\n",
              "      <td>Iris-setosa</td>\n",
              "    </tr>\n",
              "    <tr>\n",
              "      <th>19</th>\n",
              "      <td>5.4</td>\n",
              "      <td>3.4</td>\n",
              "      <td>1.7</td>\n",
              "      <td>0.2</td>\n",
              "      <td>Iris-setosa</td>\n",
              "    </tr>\n",
              "  </tbody>\n",
              "</table>\n",
              "</div>"
            ],
            "text/plain": [
              "    5.1  3.5  1.4  0.2  Iris-setosa\n",
              "0   4.9  3.0  1.4  0.2  Iris-setosa\n",
              "1   4.7  3.2  1.3  0.2  Iris-setosa\n",
              "2   4.6  3.1  1.5  0.2  Iris-setosa\n",
              "3   5.0  3.6  1.4  0.2  Iris-setosa\n",
              "4   5.4  3.9  1.7  0.4  Iris-setosa\n",
              "5   4.6  3.4  1.4  0.3  Iris-setosa\n",
              "6   5.0  3.4  1.5  0.2  Iris-setosa\n",
              "7   4.4  2.9  1.4  0.2  Iris-setosa\n",
              "8   4.9  3.1  1.5  0.1  Iris-setosa\n",
              "9   5.4  3.7  1.5  0.2  Iris-setosa\n",
              "10  4.8  3.4  1.6  0.2  Iris-setosa\n",
              "11  4.8  3.0  1.4  0.1  Iris-setosa\n",
              "12  4.3  3.0  1.1  0.1  Iris-setosa\n",
              "13  5.8  4.0  1.2  0.2  Iris-setosa\n",
              "14  5.7  4.4  1.5  0.4  Iris-setosa\n",
              "15  5.4  3.9  1.3  0.4  Iris-setosa\n",
              "16  5.1  3.5  1.4  0.3  Iris-setosa\n",
              "17  5.7  3.8  1.7  0.3  Iris-setosa\n",
              "18  5.1  3.8  1.5  0.3  Iris-setosa\n",
              "19  5.4  3.4  1.7  0.2  Iris-setosa"
            ]
          },
          "execution_count": 5,
          "metadata": {},
          "output_type": "execute_result"
        }
      ],
      "source": [
        "iris_df[0:20] #this shows us only the first 20 rows"
      ]
    },
    {
      "cell_type": "code",
      "execution_count": 6,
      "metadata": {
        "id": "sfWe0grO06qJ"
      },
      "outputs": [
        {
          "name": "stdout",
          "output_type": "stream",
          "text": [
            "<class 'pandas.core.frame.DataFrame'>\n",
            "RangeIndex: 149 entries, 0 to 148\n",
            "Data columns (total 5 columns):\n",
            " #   Column       Non-Null Count  Dtype  \n",
            "---  ------       --------------  -----  \n",
            " 0   5.1          149 non-null    float64\n",
            " 1   3.5          149 non-null    float64\n",
            " 2   1.4          149 non-null    float64\n",
            " 3   0.2          149 non-null    float64\n",
            " 4   Iris-setosa  149 non-null    object \n",
            "dtypes: float64(4), object(1)\n",
            "memory usage: 5.9+ KB\n"
          ]
        }
      ],
      "source": [
        "iris_df.info()"
      ]
    },
    {
      "cell_type": "code",
      "execution_count": 7,
      "metadata": {
        "id": "bVjX2_Iy06qK"
      },
      "outputs": [
        {
          "data": {
            "text/plain": [
              "Index(['5.1', '3.5', '1.4', '0.2', 'Iris-setosa'], dtype='object')"
            ]
          },
          "execution_count": 7,
          "metadata": {},
          "output_type": "execute_result"
        }
      ],
      "source": [
        "iris_df.columns"
      ]
    },
    {
      "cell_type": "markdown",
      "metadata": {
        "id": "hNySrhxP06qK"
      },
      "source": [
        "Find out on wikipedia what this Iris data is about."
      ]
    },
    {
      "cell_type": "markdown",
      "metadata": {
        "id": "vwEVzhfl06qK"
      },
      "source": [
        "### Hint\n",
        "\n",
        "There are some ways to get help about modules and methods in Jupyter:"
      ]
    },
    {
      "cell_type": "code",
      "execution_count": 8,
      "metadata": {
        "id": "umgUyQ4i06qL"
      },
      "outputs": [],
      "source": [
        "# if you want to know all the methods that are available for your dataset/class use iris_df. -> after the dot the available methods will appear"
      ]
    },
    {
      "cell_type": "markdown",
      "metadata": {
        "id": "YCAPpVAq06qL"
      },
      "source": [
        "Get help about this object, if there is any:"
      ]
    },
    {
      "cell_type": "code",
      "execution_count": 9,
      "metadata": {
        "id": "ZctEUABs06qL"
      },
      "outputs": [
        {
          "ename": "SyntaxError",
          "evalue": "invalid syntax (771470321.py, line 1)",
          "output_type": "error",
          "traceback": [
            "\u001b[0;36m  Cell \u001b[0;32mIn[9], line 1\u001b[0;36m\u001b[0m\n\u001b[0;31m    iris_df? #add a question mark after your object to see information about the object\u001b[0m\n\u001b[0m           ^\u001b[0m\n\u001b[0;31mSyntaxError\u001b[0m\u001b[0;31m:\u001b[0m invalid syntax\n"
          ]
        }
      ],
      "source": [
        "iris_df? #add a question mark after your object to see information about the object"
      ]
    },
    {
      "cell_type": "markdown",
      "metadata": {
        "id": "_5pTPqZA06qM"
      },
      "source": [
        "And, what you will probably use the most, the online package information and examples by googling or ChatGPT."
      ]
    },
    {
      "cell_type": "markdown",
      "metadata": {
        "id": "Dp-beMVD06qM"
      },
      "source": [
        "### Exercise 2 (10 min)\n",
        "\n",
        "Read the Swiss BAG Corona data on deaths into a dataframe and look at it. The URL is\n",
        "https://www.covid19.admin.ch/api/data/20230815-7ixiby4u/sources/COVID19Death_geoRegion_sex_w.csv\n",
        "\n",
        "There are also json files on that server. If you want to use them instead, consult https://pandas.pydata.org/docs/reference/io.html in order to find out how to read a json file into a pandas dataframe."
      ]
    },
    {
      "cell_type": "code",
      "execution_count": null,
      "metadata": {
        "id": "bjGxXL8k06qM"
      },
      "outputs": [
        {
          "data": {
            "text/plain": [
              "Index(['sex', 'geoRegion', 'datum', 'entries', 'timeframe_all', 'sumTotal',\n",
              "       'freq', 'prct', 'pop', 'inz_entries', 'inzsumTotal', 'type',\n",
              "       'type_variant', 'version', 'datum_unit', 'datum_dboardformated',\n",
              "       'entries_diff_abs', 'entries_diff_inz', 'entries_diff_pct',\n",
              "       'prct_diff'],\n",
              "      dtype='object')"
            ]
          },
          "execution_count": 14,
          "metadata": {},
          "output_type": "execute_result"
        }
      ],
      "source": [
        "# Write your code here\n",
        "pd.set_option('display.max_rows',20)\n",
        "#url = 'https://www.covid19.admin.ch/api/data/20210823-4c27ic5b/sources/COVID19VaccPersons_v2.json'\n",
        "url = 'https://www.covid19.admin.ch/api/data/20230815-7ixiby4u/sources/COVID19Death_geoRegion_sex_w.csv'\n",
        "swiss_covid_data = pd.read_csv(url)\n",
        "swiss_covid_data\n"
      ]
    },
    {
      "cell_type": "code",
      "execution_count": null,
      "metadata": {
        "id": "dIR8YyDP06qM"
      },
      "outputs": [
        {
          "name": "stdout",
          "output_type": "stream",
          "text": [
            "<bound method DataFrame.info of            sex geoRegion   datum  entries  timeframe_all  sumTotal   freq  \\\n",
            "0         male        CH  202009        0           True         0    NaN   \n",
            "1       female        CH  202009        0           True         0    NaN   \n",
            "2      unknown        CH  202009        0           True         0    NaN   \n",
            "3         male        CH  202010        2           True         2  0.667   \n",
            "4       female        CH  202010        1           True         1  0.333   \n",
            "...        ...       ...     ...      ...            ...       ...    ...   \n",
            "16183  unknown      CH03  202252        0           True         0  0.000   \n",
            "16184  unknown      CH04  202252        0           True         0  0.000   \n",
            "16185  unknown      CH05  202252        0           True         0  0.000   \n",
            "16186  unknown      CH06  202252        0           True         0    NaN   \n",
            "16187  unknown      CH07  202252        0           True         0  0.000   \n",
            "\n",
            "       prct        pop  inz_entries  inzsumTotal          type type_variant  \\\n",
            "0       NaN  4338203.0         0.00         0.00  COVID19Death          sex   \n",
            "1       NaN  4400588.0         0.00         0.00  COVID19Death          sex   \n",
            "2       NaN        NaN          NaN          NaN  COVID19Death          sex   \n",
            "3      66.7  4338203.0         0.05         0.05  COVID19Death          sex   \n",
            "4      33.3  4400588.0         0.02         0.02  COVID19Death          sex   \n",
            "...     ...        ...          ...          ...           ...          ...   \n",
            "16183   0.0        NaN          NaN          NaN  COVID19Death          sex   \n",
            "16184   0.0        NaN          NaN          NaN  COVID19Death          sex   \n",
            "16185   0.0        NaN          NaN          NaN  COVID19Death          sex   \n",
            "16186   NaN        NaN          NaN          NaN  COVID19Death          sex   \n",
            "16187   0.0        NaN          NaN          NaN  COVID19Death          sex   \n",
            "\n",
            "                   version datum_unit datum_dboardformated  entries_diff_abs  \\\n",
            "0      2023-08-15_06-00-29    isoweek              2020-09               NaN   \n",
            "1      2023-08-15_06-00-29    isoweek              2020-09               NaN   \n",
            "2      2023-08-15_06-00-29    isoweek              2020-09               NaN   \n",
            "3      2023-08-15_06-00-29    isoweek              2020-10               2.0   \n",
            "4      2023-08-15_06-00-29    isoweek              2020-10               1.0   \n",
            "...                    ...        ...                  ...               ...   \n",
            "16183  2023-08-15_06-00-29    isoweek              2022-52               0.0   \n",
            "16184  2023-08-15_06-00-29    isoweek              2022-52               0.0   \n",
            "16185  2023-08-15_06-00-29    isoweek              2022-52               0.0   \n",
            "16186  2023-08-15_06-00-29    isoweek              2022-52               0.0   \n",
            "16187  2023-08-15_06-00-29    isoweek              2022-52               0.0   \n",
            "\n",
            "       entries_diff_inz  entries_diff_pct  prct_diff  \n",
            "0                   NaN               NaN        NaN  \n",
            "1                   NaN               NaN        NaN  \n",
            "2                   NaN               NaN        NaN  \n",
            "3                  0.05               NaN        NaN  \n",
            "4                  0.02               NaN        NaN  \n",
            "...                 ...               ...        ...  \n",
            "16183               NaN               NaN        0.0  \n",
            "16184               NaN               NaN        0.0  \n",
            "16185               NaN               NaN        0.0  \n",
            "16186               NaN               NaN        NaN  \n",
            "16187               NaN               NaN        0.0  \n",
            "\n",
            "[16188 rows x 20 columns]>\n"
          ]
        },
        {
          "data": {
            "text/plain": [
              "Index(['sex', 'geoRegion', 'datum', 'entries', 'timeframe_all', 'sumTotal',\n",
              "       'freq', 'prct', 'pop', 'inz_entries', 'inzsumTotal', 'type',\n",
              "       'type_variant', 'version', 'datum_unit', 'datum_dboardformated',\n",
              "       'entries_diff_abs', 'entries_diff_inz', 'entries_diff_pct',\n",
              "       'prct_diff'],\n",
              "      dtype='object')"
            ]
          },
          "execution_count": 16,
          "metadata": {},
          "output_type": "execute_result"
        }
      ],
      "source": [
        "print(swiss_covid_data.info)\n",
        "swiss_covid_data.columns\n",
        "#note: for the last entry in a code cell you don't need to add the print command, it'll print automatically"
      ]
    },
    {
      "cell_type": "markdown",
      "metadata": {
        "id": "xCI7ub-706qN"
      },
      "source": [
        "### 3. Indexing on a DataFrame\n",
        "\n",
        "By methods (we are back to our clean and simple Iris dataset):"
      ]
    },
    {
      "cell_type": "code",
      "execution_count": null,
      "metadata": {
        "id": "R0sDmvr006qN"
      },
      "outputs": [
        {
          "data": {
            "text/plain": [
              "5.2"
            ]
          },
          "execution_count": 24,
          "metadata": {},
          "output_type": "execute_result"
        }
      ],
      "source": [
        "# access single cell by integer numbers, faster that loc and iloc. Use the .iat command and then specify the row and column you want to access\n",
        "iris_df.iat[0,0]\n",
        "#this will access the second last row, the 3rd column (column labeling starts at 0)"
      ]
    },
    {
      "cell_type": "code",
      "execution_count": null,
      "metadata": {
        "id": "HglpOox106qN"
      },
      "outputs": [
        {
          "name": "stdout",
          "output_type": "stream",
          "text": [
            "5.3\n",
            "5.3\n"
          ]
        },
        {
          "data": {
            "text/html": [
              "<div>\n",
              "<style scoped>\n",
              "    .dataframe tbody tr th:only-of-type {\n",
              "        vertical-align: middle;\n",
              "    }\n",
              "\n",
              "    .dataframe tbody tr th {\n",
              "        vertical-align: top;\n",
              "    }\n",
              "\n",
              "    .dataframe thead th {\n",
              "        text-align: right;\n",
              "    }\n",
              "</style>\n",
              "<table border=\"1\" class=\"dataframe\">\n",
              "  <thead>\n",
              "    <tr style=\"text-align: right;\">\n",
              "      <th></th>\n",
              "      <th>5.1</th>\n",
              "      <th>3.5</th>\n",
              "      <th>1.4</th>\n",
              "      <th>0.2</th>\n",
              "      <th>Iris-setosa</th>\n",
              "    </tr>\n",
              "  </thead>\n",
              "  <tbody>\n",
              "    <tr>\n",
              "      <th>0</th>\n",
              "      <td>5.3</td>\n",
              "      <td>3.0</td>\n",
              "      <td>1.4</td>\n",
              "      <td>0.2</td>\n",
              "      <td>Iris-setosa</td>\n",
              "    </tr>\n",
              "    <tr>\n",
              "      <th>1</th>\n",
              "      <td>4.7</td>\n",
              "      <td>3.2</td>\n",
              "      <td>1.3</td>\n",
              "      <td>0.2</td>\n",
              "      <td>Iris-setosa</td>\n",
              "    </tr>\n",
              "    <tr>\n",
              "      <th>2</th>\n",
              "      <td>4.6</td>\n",
              "      <td>3.1</td>\n",
              "      <td>1.5</td>\n",
              "      <td>0.2</td>\n",
              "      <td>Iris-setosa</td>\n",
              "    </tr>\n",
              "    <tr>\n",
              "      <th>3</th>\n",
              "      <td>5.0</td>\n",
              "      <td>3.6</td>\n",
              "      <td>1.4</td>\n",
              "      <td>0.2</td>\n",
              "      <td>Iris-setosa</td>\n",
              "    </tr>\n",
              "    <tr>\n",
              "      <th>4</th>\n",
              "      <td>5.4</td>\n",
              "      <td>3.9</td>\n",
              "      <td>1.7</td>\n",
              "      <td>0.4</td>\n",
              "      <td>Iris-setosa</td>\n",
              "    </tr>\n",
              "  </tbody>\n",
              "</table>\n",
              "</div>"
            ],
            "text/plain": [
              "   5.1  3.5  1.4  0.2  Iris-setosa\n",
              "0  5.3  3.0  1.4  0.2  Iris-setosa\n",
              "1  4.7  3.2  1.3  0.2  Iris-setosa\n",
              "2  4.6  3.1  1.5  0.2  Iris-setosa\n",
              "3  5.0  3.6  1.4  0.2  Iris-setosa\n",
              "4  5.4  3.9  1.7  0.4  Iris-setosa"
            ]
          },
          "execution_count": 26,
          "metadata": {},
          "output_type": "execute_result"
        }
      ],
      "source": [
        "# Assign a new value by once again accessing the value by using integer number, then assign new value using =\n",
        "print(iris_df.iat[0,0])\n",
        "iris_df.iat[0,0]=5.3\n",
        "print(iris_df.iat[0,0])\n",
        "iris_df.head() #displays the first 5 rows"
      ]
    },
    {
      "cell_type": "markdown",
      "metadata": {
        "id": "jf6gF3jr06qN"
      },
      "source": [
        "Indexing a group/subset of the dataframe by loc (column names) or iloc (index)"
      ]
    },
    {
      "cell_type": "code",
      "execution_count": null,
      "metadata": {
        "id": "CvKPHzP106qO"
      },
      "outputs": [
        {
          "data": {
            "text/html": [
              "<div>\n",
              "<style scoped>\n",
              "    .dataframe tbody tr th:only-of-type {\n",
              "        vertical-align: middle;\n",
              "    }\n",
              "\n",
              "    .dataframe tbody tr th {\n",
              "        vertical-align: top;\n",
              "    }\n",
              "\n",
              "    .dataframe thead th {\n",
              "        text-align: right;\n",
              "    }\n",
              "</style>\n",
              "<table border=\"1\" class=\"dataframe\">\n",
              "  <thead>\n",
              "    <tr style=\"text-align: right;\">\n",
              "      <th></th>\n",
              "      <th>5.1</th>\n",
              "      <th>3.5</th>\n",
              "      <th>1.4</th>\n",
              "      <th>0.2</th>\n",
              "      <th>Iris-setosa</th>\n",
              "    </tr>\n",
              "  </thead>\n",
              "  <tbody>\n",
              "    <tr>\n",
              "      <th>0</th>\n",
              "      <td>5.3</td>\n",
              "      <td>3.0</td>\n",
              "      <td>1.4</td>\n",
              "      <td>0.2</td>\n",
              "      <td>Iris-setosa</td>\n",
              "    </tr>\n",
              "    <tr>\n",
              "      <th>2</th>\n",
              "      <td>4.6</td>\n",
              "      <td>3.1</td>\n",
              "      <td>1.5</td>\n",
              "      <td>0.2</td>\n",
              "      <td>Iris-setosa</td>\n",
              "    </tr>\n",
              "    <tr>\n",
              "      <th>4</th>\n",
              "      <td>5.4</td>\n",
              "      <td>3.9</td>\n",
              "      <td>1.7</td>\n",
              "      <td>0.4</td>\n",
              "      <td>Iris-setosa</td>\n",
              "    </tr>\n",
              "    <tr>\n",
              "      <th>6</th>\n",
              "      <td>5.0</td>\n",
              "      <td>3.4</td>\n",
              "      <td>1.5</td>\n",
              "      <td>0.2</td>\n",
              "      <td>Iris-setosa</td>\n",
              "    </tr>\n",
              "  </tbody>\n",
              "</table>\n",
              "</div>"
            ],
            "text/plain": [
              "   5.1  3.5  1.4  0.2  Iris-setosa\n",
              "0  5.3  3.0  1.4  0.2  Iris-setosa\n",
              "2  4.6  3.1  1.5  0.2  Iris-setosa\n",
              "4  5.4  3.9  1.7  0.4  Iris-setosa\n",
              "6  5.0  3.4  1.5  0.2  Iris-setosa"
            ]
          },
          "execution_count": 28,
          "metadata": {},
          "output_type": "execute_result"
        }
      ],
      "source": [
        "#loc looks for the label assigned to the row/column whereas iloc looks for the location of the row/column\n",
        "#for df where the index and the location matches the result displayed will be the same\n",
        "iris_df.loc[0:2] #accesses rows 0-2\n",
        "iris_df.loc[0:6:2] #accesses every second row between 0 and 6"
      ]
    },
    {
      "cell_type": "markdown",
      "metadata": {
        "id": "8holfyZd06qO"
      },
      "source": [
        "**Important**\n",
        "When you assign a (subset) of dataframe to a new one like above, no copy is made. This means that if you change values of the new frame, also the orginal frame will be changed. If you want a copy, you need to use the copy method."
      ]
    },
    {
      "cell_type": "markdown",
      "metadata": {
        "id": "9n8pa6UH06qO"
      },
      "source": [
        "Indexing by column names..."
      ]
    },
    {
      "cell_type": "code",
      "execution_count": 23,
      "metadata": {
        "id": "ZapUeo_x06qO"
      },
      "outputs": [
        {
          "data": {
            "text/plain": [
              "0      4.9\n",
              "1      4.7\n",
              "2      4.6\n",
              "3      5.0\n",
              "4      5.4\n",
              "      ... \n",
              "144    6.7\n",
              "145    6.3\n",
              "146    6.5\n",
              "147    6.2\n",
              "148    5.9\n",
              "Name: sepals_length, Length: 149, dtype: float64"
            ]
          },
          "execution_count": 23,
          "metadata": {},
          "output_type": "execute_result"
        }
      ],
      "source": [
        "iris_df.rename(columns={'5.1':'sepals_length', '3.5':'sepals_width', '1.4':'petals_length', '0.2':'petals_width', 'Iris-setosa':'species'}, inplace=True)\n",
        "#this command changed the first row to add titles to the column. However, it also deleted the first row of valuen\n",
        "iris_df['sepals_length'] #here sepals_length is the column name, looking for the name will display all the rows of that column"
      ]
    },
    {
      "cell_type": "markdown",
      "metadata": {
        "id": "R0Sqgdk106qP"
      },
      "source": [
        "Selecting (filtering) by column valuess_df = dataframe[dataframe['species']=='Iris-setosa']"
      ]
    },
    {
      "cell_type": "code",
      "execution_count": null,
      "metadata": {
        "id": "BPqUoUYR06qP"
      },
      "outputs": [
        {
          "data": {
            "text/html": [
              "<div>\n",
              "<style scoped>\n",
              "    .dataframe tbody tr th:only-of-type {\n",
              "        vertical-align: middle;\n",
              "    }\n",
              "\n",
              "    .dataframe tbody tr th {\n",
              "        vertical-align: top;\n",
              "    }\n",
              "\n",
              "    .dataframe thead th {\n",
              "        text-align: right;\n",
              "    }\n",
              "</style>\n",
              "<table border=\"1\" class=\"dataframe\">\n",
              "  <thead>\n",
              "    <tr style=\"text-align: right;\">\n",
              "      <th></th>\n",
              "      <th>sepals_length</th>\n",
              "      <th>sepals_width</th>\n",
              "      <th>petals_length</th>\n",
              "      <th>petals_width</th>\n",
              "      <th>species</th>\n",
              "    </tr>\n",
              "  </thead>\n",
              "  <tbody>\n",
              "    <tr>\n",
              "      <th>1</th>\n",
              "      <td>4.7</td>\n",
              "      <td>3.2</td>\n",
              "      <td>1.3</td>\n",
              "      <td>0.2</td>\n",
              "      <td>Iris-setosa</td>\n",
              "    </tr>\n",
              "    <tr>\n",
              "      <th>2</th>\n",
              "      <td>4.6</td>\n",
              "      <td>3.1</td>\n",
              "      <td>1.5</td>\n",
              "      <td>0.2</td>\n",
              "      <td>Iris-setosa</td>\n",
              "    </tr>\n",
              "    <tr>\n",
              "      <th>3</th>\n",
              "      <td>5.0</td>\n",
              "      <td>3.6</td>\n",
              "      <td>1.4</td>\n",
              "      <td>0.2</td>\n",
              "      <td>Iris-setosa</td>\n",
              "    </tr>\n",
              "    <tr>\n",
              "      <th>4</th>\n",
              "      <td>5.4</td>\n",
              "      <td>3.9</td>\n",
              "      <td>1.7</td>\n",
              "      <td>0.4</td>\n",
              "      <td>Iris-setosa</td>\n",
              "    </tr>\n",
              "    <tr>\n",
              "      <th>5</th>\n",
              "      <td>4.6</td>\n",
              "      <td>3.4</td>\n",
              "      <td>1.4</td>\n",
              "      <td>0.3</td>\n",
              "      <td>Iris-setosa</td>\n",
              "    </tr>\n",
              "    <tr>\n",
              "      <th>...</th>\n",
              "      <td>...</td>\n",
              "      <td>...</td>\n",
              "      <td>...</td>\n",
              "      <td>...</td>\n",
              "      <td>...</td>\n",
              "    </tr>\n",
              "    <tr>\n",
              "      <th>44</th>\n",
              "      <td>4.8</td>\n",
              "      <td>3.0</td>\n",
              "      <td>1.4</td>\n",
              "      <td>0.3</td>\n",
              "      <td>Iris-setosa</td>\n",
              "    </tr>\n",
              "    <tr>\n",
              "      <th>45</th>\n",
              "      <td>5.1</td>\n",
              "      <td>3.8</td>\n",
              "      <td>1.6</td>\n",
              "      <td>0.2</td>\n",
              "      <td>Iris-setosa</td>\n",
              "    </tr>\n",
              "    <tr>\n",
              "      <th>46</th>\n",
              "      <td>4.6</td>\n",
              "      <td>3.2</td>\n",
              "      <td>1.4</td>\n",
              "      <td>0.2</td>\n",
              "      <td>Iris-setosa</td>\n",
              "    </tr>\n",
              "    <tr>\n",
              "      <th>47</th>\n",
              "      <td>5.3</td>\n",
              "      <td>3.7</td>\n",
              "      <td>1.5</td>\n",
              "      <td>0.2</td>\n",
              "      <td>Iris-setosa</td>\n",
              "    </tr>\n",
              "    <tr>\n",
              "      <th>48</th>\n",
              "      <td>5.0</td>\n",
              "      <td>3.3</td>\n",
              "      <td>1.4</td>\n",
              "      <td>0.2</td>\n",
              "      <td>Iris-setosa</td>\n",
              "    </tr>\n",
              "  </tbody>\n",
              "</table>\n",
              "<p>48 rows × 5 columns</p>\n",
              "</div>"
            ],
            "text/plain": [
              "   sepals_length sepals_width petals_length petals_width      species\n",
              "1            4.7          3.2           1.3          0.2  Iris-setosa\n",
              "2            4.6          3.1           1.5          0.2  Iris-setosa\n",
              "3            5.0          3.6           1.4          0.2  Iris-setosa\n",
              "4            5.4          3.9           1.7          0.4  Iris-setosa\n",
              "5            4.6          3.4           1.4          0.3  Iris-setosa\n",
              "..           ...          ...           ...          ...          ...\n",
              "44           4.8          3.0           1.4          0.3  Iris-setosa\n",
              "45           5.1          3.8           1.6          0.2  Iris-setosa\n",
              "46           4.6          3.2           1.4          0.2  Iris-setosa\n",
              "47           5.3          3.7           1.5          0.2  Iris-setosa\n",
              "48           5.0          3.3           1.4          0.2  Iris-setosa\n",
              "\n",
              "[48 rows x 5 columns]"
            ]
          },
          "execution_count": 41,
          "metadata": {},
          "output_type": "execute_result"
        }
      ],
      "source": [
        "iris_setosa_df = iris_df[iris_df['species']=='Iris-setosa'] #this will create a new df where only the values of the iris-setosa is displayed\n",
        "iris_setosa_df"
      ]
    },
    {
      "cell_type": "code",
      "execution_count": null,
      "metadata": {
        "id": "cp2J-Y0E06qP"
      },
      "outputs": [],
      "source": []
    },
    {
      "cell_type": "markdown",
      "metadata": {
        "id": "IO6qtwYH06qP"
      },
      "source": [
        "Vectorized dataframe manipulations..."
      ]
    },
    {
      "cell_type": "code",
      "execution_count": null,
      "metadata": {
        "id": "3dN1twE406qP"
      },
      "outputs": [
        {
          "name": "stderr",
          "output_type": "stream",
          "text": [
            "/var/folders/k1/tlc1r2s97gj6r2x8xm2cchlh0000gn/T/ipykernel_3379/1188642016.py:2: SettingWithCopyWarning: \n",
            "A value is trying to be set on a copy of a slice from a DataFrame.\n",
            "Try using .loc[row_indexer,col_indexer] = value instead\n",
            "\n",
            "See the caveats in the documentation: https://pandas.pydata.org/pandas-docs/stable/user_guide/indexing.html#returning-a-view-versus-a-copy\n",
            "  iris_setosa_df['petals_length_half']=iris_setosa_df['petals_length'].astype(float)/2\n"
          ]
        },
        {
          "data": {
            "text/html": [
              "<div>\n",
              "<style scoped>\n",
              "    .dataframe tbody tr th:only-of-type {\n",
              "        vertical-align: middle;\n",
              "    }\n",
              "\n",
              "    .dataframe tbody tr th {\n",
              "        vertical-align: top;\n",
              "    }\n",
              "\n",
              "    .dataframe thead th {\n",
              "        text-align: right;\n",
              "    }\n",
              "</style>\n",
              "<table border=\"1\" class=\"dataframe\">\n",
              "  <thead>\n",
              "    <tr style=\"text-align: right;\">\n",
              "      <th></th>\n",
              "      <th>sepals_length</th>\n",
              "      <th>sepals_width</th>\n",
              "      <th>petals_length</th>\n",
              "      <th>petals_width</th>\n",
              "      <th>species</th>\n",
              "      <th>petals_length_half</th>\n",
              "    </tr>\n",
              "  </thead>\n",
              "  <tbody>\n",
              "    <tr>\n",
              "      <th>1</th>\n",
              "      <td>4.7</td>\n",
              "      <td>3.2</td>\n",
              "      <td>1.3</td>\n",
              "      <td>0.2</td>\n",
              "      <td>Iris-setosa</td>\n",
              "      <td>0.65</td>\n",
              "    </tr>\n",
              "    <tr>\n",
              "      <th>2</th>\n",
              "      <td>4.6</td>\n",
              "      <td>3.1</td>\n",
              "      <td>1.5</td>\n",
              "      <td>0.2</td>\n",
              "      <td>Iris-setosa</td>\n",
              "      <td>0.75</td>\n",
              "    </tr>\n",
              "    <tr>\n",
              "      <th>3</th>\n",
              "      <td>5.0</td>\n",
              "      <td>3.6</td>\n",
              "      <td>1.4</td>\n",
              "      <td>0.2</td>\n",
              "      <td>Iris-setosa</td>\n",
              "      <td>0.70</td>\n",
              "    </tr>\n",
              "    <tr>\n",
              "      <th>4</th>\n",
              "      <td>5.4</td>\n",
              "      <td>3.9</td>\n",
              "      <td>1.7</td>\n",
              "      <td>0.4</td>\n",
              "      <td>Iris-setosa</td>\n",
              "      <td>0.85</td>\n",
              "    </tr>\n",
              "    <tr>\n",
              "      <th>5</th>\n",
              "      <td>4.6</td>\n",
              "      <td>3.4</td>\n",
              "      <td>1.4</td>\n",
              "      <td>0.3</td>\n",
              "      <td>Iris-setosa</td>\n",
              "      <td>0.70</td>\n",
              "    </tr>\n",
              "    <tr>\n",
              "      <th>...</th>\n",
              "      <td>...</td>\n",
              "      <td>...</td>\n",
              "      <td>...</td>\n",
              "      <td>...</td>\n",
              "      <td>...</td>\n",
              "      <td>...</td>\n",
              "    </tr>\n",
              "    <tr>\n",
              "      <th>44</th>\n",
              "      <td>4.8</td>\n",
              "      <td>3.0</td>\n",
              "      <td>1.4</td>\n",
              "      <td>0.3</td>\n",
              "      <td>Iris-setosa</td>\n",
              "      <td>0.70</td>\n",
              "    </tr>\n",
              "    <tr>\n",
              "      <th>45</th>\n",
              "      <td>5.1</td>\n",
              "      <td>3.8</td>\n",
              "      <td>1.6</td>\n",
              "      <td>0.2</td>\n",
              "      <td>Iris-setosa</td>\n",
              "      <td>0.80</td>\n",
              "    </tr>\n",
              "    <tr>\n",
              "      <th>46</th>\n",
              "      <td>4.6</td>\n",
              "      <td>3.2</td>\n",
              "      <td>1.4</td>\n",
              "      <td>0.2</td>\n",
              "      <td>Iris-setosa</td>\n",
              "      <td>0.70</td>\n",
              "    </tr>\n",
              "    <tr>\n",
              "      <th>47</th>\n",
              "      <td>5.3</td>\n",
              "      <td>3.7</td>\n",
              "      <td>1.5</td>\n",
              "      <td>0.2</td>\n",
              "      <td>Iris-setosa</td>\n",
              "      <td>0.75</td>\n",
              "    </tr>\n",
              "    <tr>\n",
              "      <th>48</th>\n",
              "      <td>5.0</td>\n",
              "      <td>3.3</td>\n",
              "      <td>1.4</td>\n",
              "      <td>0.2</td>\n",
              "      <td>Iris-setosa</td>\n",
              "      <td>0.70</td>\n",
              "    </tr>\n",
              "  </tbody>\n",
              "</table>\n",
              "<p>48 rows × 6 columns</p>\n",
              "</div>"
            ],
            "text/plain": [
              "   sepals_length sepals_width petals_length petals_width      species  \\\n",
              "1            4.7          3.2           1.3          0.2  Iris-setosa   \n",
              "2            4.6          3.1           1.5          0.2  Iris-setosa   \n",
              "3            5.0          3.6           1.4          0.2  Iris-setosa   \n",
              "4            5.4          3.9           1.7          0.4  Iris-setosa   \n",
              "5            4.6          3.4           1.4          0.3  Iris-setosa   \n",
              "..           ...          ...           ...          ...          ...   \n",
              "44           4.8          3.0           1.4          0.3  Iris-setosa   \n",
              "45           5.1          3.8           1.6          0.2  Iris-setosa   \n",
              "46           4.6          3.2           1.4          0.2  Iris-setosa   \n",
              "47           5.3          3.7           1.5          0.2  Iris-setosa   \n",
              "48           5.0          3.3           1.4          0.2  Iris-setosa   \n",
              "\n",
              "    petals_length_half  \n",
              "1                 0.65  \n",
              "2                 0.75  \n",
              "3                 0.70  \n",
              "4                 0.85  \n",
              "5                 0.70  \n",
              "..                 ...  \n",
              "44                0.70  \n",
              "45                0.80  \n",
              "46                0.70  \n",
              "47                0.75  \n",
              "48                0.70  \n",
              "\n",
              "[48 rows x 6 columns]"
            ]
          },
          "execution_count": 42,
          "metadata": {},
          "output_type": "execute_result"
        }
      ],
      "source": [
        "#performing an operation on an entire column and creating a new column with the output\n",
        "iris_setosa_df['petals_length_half']=iris_setosa_df['petals_length'].astype(float)/2\n",
        "iris_setosa_df"
      ]
    },
    {
      "cell_type": "markdown",
      "metadata": {
        "id": "peiXnTgAxw08"
      },
      "source": [
        "Grouping ..."
      ]
    },
    {
      "cell_type": "code",
      "execution_count": 26,
      "metadata": {
        "id": "SPJDgpc006qP"
      },
      "outputs": [
        {
          "name": "stdout",
          "output_type": "stream",
          "text": [
            "3\n",
            "species\n",
            "Iris-setosa        49\n",
            "Iris-versicolor    50\n",
            "Iris-virginica     50\n",
            "dtype: int64\n"
          ]
        },
        {
          "data": {
            "text/html": [
              "<div>\n",
              "<style scoped>\n",
              "    .dataframe tbody tr th:only-of-type {\n",
              "        vertical-align: middle;\n",
              "    }\n",
              "\n",
              "    .dataframe tbody tr th {\n",
              "        vertical-align: top;\n",
              "    }\n",
              "\n",
              "    .dataframe thead th {\n",
              "        text-align: right;\n",
              "    }\n",
              "</style>\n",
              "<table border=\"1\" class=\"dataframe\">\n",
              "  <thead>\n",
              "    <tr style=\"text-align: right;\">\n",
              "      <th></th>\n",
              "      <th>sepals_length</th>\n",
              "      <th>sepals_width</th>\n",
              "      <th>petals_length</th>\n",
              "      <th>petals_width</th>\n",
              "      <th>species</th>\n",
              "    </tr>\n",
              "  </thead>\n",
              "  <tbody>\n",
              "    <tr>\n",
              "      <th>99</th>\n",
              "      <td>6.3</td>\n",
              "      <td>3.3</td>\n",
              "      <td>6.0</td>\n",
              "      <td>2.5</td>\n",
              "      <td>Iris-virginica</td>\n",
              "    </tr>\n",
              "    <tr>\n",
              "      <th>100</th>\n",
              "      <td>5.8</td>\n",
              "      <td>2.7</td>\n",
              "      <td>5.1</td>\n",
              "      <td>1.9</td>\n",
              "      <td>Iris-virginica</td>\n",
              "    </tr>\n",
              "    <tr>\n",
              "      <th>101</th>\n",
              "      <td>7.1</td>\n",
              "      <td>3.0</td>\n",
              "      <td>5.9</td>\n",
              "      <td>2.1</td>\n",
              "      <td>Iris-virginica</td>\n",
              "    </tr>\n",
              "    <tr>\n",
              "      <th>102</th>\n",
              "      <td>6.3</td>\n",
              "      <td>2.9</td>\n",
              "      <td>5.6</td>\n",
              "      <td>1.8</td>\n",
              "      <td>Iris-virginica</td>\n",
              "    </tr>\n",
              "    <tr>\n",
              "      <th>103</th>\n",
              "      <td>6.5</td>\n",
              "      <td>3.0</td>\n",
              "      <td>5.8</td>\n",
              "      <td>2.2</td>\n",
              "      <td>Iris-virginica</td>\n",
              "    </tr>\n",
              "  </tbody>\n",
              "</table>\n",
              "</div>"
            ],
            "text/plain": [
              "     sepals_length  sepals_width  petals_length  petals_width         species\n",
              "99             6.3           3.3            6.0           2.5  Iris-virginica\n",
              "100            5.8           2.7            5.1           1.9  Iris-virginica\n",
              "101            7.1           3.0            5.9           2.1  Iris-virginica\n",
              "102            6.3           2.9            5.6           1.8  Iris-virginica\n",
              "103            6.5           3.0            5.8           2.2  Iris-virginica"
            ]
          },
          "execution_count": 26,
          "metadata": {},
          "output_type": "execute_result"
        }
      ],
      "source": [
        "grouped_df = iris_df.groupby('species') #groups rows of a df based on the values of a column\n",
        "print(grouped_df.ngroups) \n",
        "print(grouped_df.size())\n",
        "gdf_virginica = grouped_df.get_group('Iris-virginica')\n",
        "gdf_virginica.head()\n"
      ]
    },
    {
      "cell_type": "markdown",
      "metadata": {
        "id": "NkS6YD7V06qQ"
      },
      "source": [
        "### 4. Sorting on a DataFrame\n",
        "\n",
        "..."
      ]
    },
    {
      "cell_type": "code",
      "execution_count": 27,
      "metadata": {
        "id": "d1hGqMMk06qQ"
      },
      "outputs": [
        {
          "data": {
            "text/html": [
              "<div>\n",
              "<style scoped>\n",
              "    .dataframe tbody tr th:only-of-type {\n",
              "        vertical-align: middle;\n",
              "    }\n",
              "\n",
              "    .dataframe tbody tr th {\n",
              "        vertical-align: top;\n",
              "    }\n",
              "\n",
              "    .dataframe thead th {\n",
              "        text-align: right;\n",
              "    }\n",
              "</style>\n",
              "<table border=\"1\" class=\"dataframe\">\n",
              "  <thead>\n",
              "    <tr style=\"text-align: right;\">\n",
              "      <th></th>\n",
              "      <th>sepals_length</th>\n",
              "      <th>sepals_width</th>\n",
              "      <th>petals_length</th>\n",
              "      <th>petals_width</th>\n",
              "      <th>species</th>\n",
              "    </tr>\n",
              "  </thead>\n",
              "  <tbody>\n",
              "    <tr>\n",
              "      <th>12</th>\n",
              "      <td>4.3</td>\n",
              "      <td>3.0</td>\n",
              "      <td>1.1</td>\n",
              "      <td>0.1</td>\n",
              "      <td>Iris-setosa</td>\n",
              "    </tr>\n",
              "    <tr>\n",
              "      <th>7</th>\n",
              "      <td>4.4</td>\n",
              "      <td>2.9</td>\n",
              "      <td>1.4</td>\n",
              "      <td>0.2</td>\n",
              "      <td>Iris-setosa</td>\n",
              "    </tr>\n",
              "    <tr>\n",
              "      <th>37</th>\n",
              "      <td>4.4</td>\n",
              "      <td>3.0</td>\n",
              "      <td>1.3</td>\n",
              "      <td>0.2</td>\n",
              "      <td>Iris-setosa</td>\n",
              "    </tr>\n",
              "    <tr>\n",
              "      <th>41</th>\n",
              "      <td>4.4</td>\n",
              "      <td>3.2</td>\n",
              "      <td>1.3</td>\n",
              "      <td>0.2</td>\n",
              "      <td>Iris-setosa</td>\n",
              "    </tr>\n",
              "    <tr>\n",
              "      <th>40</th>\n",
              "      <td>4.5</td>\n",
              "      <td>2.3</td>\n",
              "      <td>1.3</td>\n",
              "      <td>0.3</td>\n",
              "      <td>Iris-setosa</td>\n",
              "    </tr>\n",
              "    <tr>\n",
              "      <th>...</th>\n",
              "      <td>...</td>\n",
              "      <td>...</td>\n",
              "      <td>...</td>\n",
              "      <td>...</td>\n",
              "      <td>...</td>\n",
              "    </tr>\n",
              "    <tr>\n",
              "      <th>117</th>\n",
              "      <td>7.7</td>\n",
              "      <td>2.6</td>\n",
              "      <td>6.9</td>\n",
              "      <td>2.3</td>\n",
              "      <td>Iris-virginica</td>\n",
              "    </tr>\n",
              "    <tr>\n",
              "      <th>121</th>\n",
              "      <td>7.7</td>\n",
              "      <td>2.8</td>\n",
              "      <td>6.7</td>\n",
              "      <td>2.0</td>\n",
              "      <td>Iris-virginica</td>\n",
              "    </tr>\n",
              "    <tr>\n",
              "      <th>134</th>\n",
              "      <td>7.7</td>\n",
              "      <td>3.0</td>\n",
              "      <td>6.1</td>\n",
              "      <td>2.3</td>\n",
              "      <td>Iris-virginica</td>\n",
              "    </tr>\n",
              "    <tr>\n",
              "      <th>116</th>\n",
              "      <td>7.7</td>\n",
              "      <td>3.8</td>\n",
              "      <td>6.7</td>\n",
              "      <td>2.2</td>\n",
              "      <td>Iris-virginica</td>\n",
              "    </tr>\n",
              "    <tr>\n",
              "      <th>130</th>\n",
              "      <td>7.9</td>\n",
              "      <td>3.8</td>\n",
              "      <td>6.4</td>\n",
              "      <td>2.0</td>\n",
              "      <td>Iris-virginica</td>\n",
              "    </tr>\n",
              "  </tbody>\n",
              "</table>\n",
              "<p>149 rows × 5 columns</p>\n",
              "</div>"
            ],
            "text/plain": [
              "     sepals_length  sepals_width  petals_length  petals_width         species\n",
              "12             4.3           3.0            1.1           0.1     Iris-setosa\n",
              "7              4.4           2.9            1.4           0.2     Iris-setosa\n",
              "37             4.4           3.0            1.3           0.2     Iris-setosa\n",
              "41             4.4           3.2            1.3           0.2     Iris-setosa\n",
              "40             4.5           2.3            1.3           0.3     Iris-setosa\n",
              "..             ...           ...            ...           ...             ...\n",
              "117            7.7           2.6            6.9           2.3  Iris-virginica\n",
              "121            7.7           2.8            6.7           2.0  Iris-virginica\n",
              "134            7.7           3.0            6.1           2.3  Iris-virginica\n",
              "116            7.7           3.8            6.7           2.2  Iris-virginica\n",
              "130            7.9           3.8            6.4           2.0  Iris-virginica\n",
              "\n",
              "[149 rows x 5 columns]"
            ]
          },
          "execution_count": 27,
          "metadata": {},
          "output_type": "execute_result"
        }
      ],
      "source": [
        "#adf = pd.read_csv('iris.csv',names=['slength','swidth','plength','pwidth','species'])\n",
        "iris_df.sort_values(['sepals_length', 'sepals_width']) \n",
        "#sorts the values of sepals_length according to their size, if two values have the same size they will be sorted according to sepals_width"
      ]
    },
    {
      "cell_type": "code",
      "execution_count": null,
      "metadata": {
        "id": "ghnoA6O306qQ"
      },
      "outputs": [],
      "source": [
        "\n"
      ]
    },
    {
      "cell_type": "markdown",
      "metadata": {
        "id": "2xGm6-8W06qQ"
      },
      "source": [
        "You may measure the time needed for the execution, e.g. with the operating system command \"time\". System commands are executed with a %:"
      ]
    },
    {
      "cell_type": "code",
      "execution_count": 28,
      "metadata": {
        "id": "PyaC-Aj006qQ"
      },
      "outputs": [
        {
          "name": "stdout",
          "output_type": "stream",
          "text": [
            "CPU times: user 1.88 ms, sys: 364 µs, total: 2.25 ms\n",
            "Wall time: 1.99 ms\n"
          ]
        },
        {
          "data": {
            "text/html": [
              "<div>\n",
              "<style scoped>\n",
              "    .dataframe tbody tr th:only-of-type {\n",
              "        vertical-align: middle;\n",
              "    }\n",
              "\n",
              "    .dataframe tbody tr th {\n",
              "        vertical-align: top;\n",
              "    }\n",
              "\n",
              "    .dataframe thead th {\n",
              "        text-align: right;\n",
              "    }\n",
              "</style>\n",
              "<table border=\"1\" class=\"dataframe\">\n",
              "  <thead>\n",
              "    <tr style=\"text-align: right;\">\n",
              "      <th></th>\n",
              "      <th>sepals_length</th>\n",
              "      <th>sepals_width</th>\n",
              "      <th>petals_length</th>\n",
              "      <th>petals_width</th>\n",
              "      <th>species</th>\n",
              "    </tr>\n",
              "  </thead>\n",
              "  <tbody>\n",
              "    <tr>\n",
              "      <th>12</th>\n",
              "      <td>4.3</td>\n",
              "      <td>3.0</td>\n",
              "      <td>1.1</td>\n",
              "      <td>0.1</td>\n",
              "      <td>Iris-setosa</td>\n",
              "    </tr>\n",
              "    <tr>\n",
              "      <th>7</th>\n",
              "      <td>4.4</td>\n",
              "      <td>2.9</td>\n",
              "      <td>1.4</td>\n",
              "      <td>0.2</td>\n",
              "      <td>Iris-setosa</td>\n",
              "    </tr>\n",
              "    <tr>\n",
              "      <th>37</th>\n",
              "      <td>4.4</td>\n",
              "      <td>3.0</td>\n",
              "      <td>1.3</td>\n",
              "      <td>0.2</td>\n",
              "      <td>Iris-setosa</td>\n",
              "    </tr>\n",
              "    <tr>\n",
              "      <th>41</th>\n",
              "      <td>4.4</td>\n",
              "      <td>3.2</td>\n",
              "      <td>1.3</td>\n",
              "      <td>0.2</td>\n",
              "      <td>Iris-setosa</td>\n",
              "    </tr>\n",
              "    <tr>\n",
              "      <th>40</th>\n",
              "      <td>4.5</td>\n",
              "      <td>2.3</td>\n",
              "      <td>1.3</td>\n",
              "      <td>0.3</td>\n",
              "      <td>Iris-setosa</td>\n",
              "    </tr>\n",
              "    <tr>\n",
              "      <th>...</th>\n",
              "      <td>...</td>\n",
              "      <td>...</td>\n",
              "      <td>...</td>\n",
              "      <td>...</td>\n",
              "      <td>...</td>\n",
              "    </tr>\n",
              "    <tr>\n",
              "      <th>117</th>\n",
              "      <td>7.7</td>\n",
              "      <td>2.6</td>\n",
              "      <td>6.9</td>\n",
              "      <td>2.3</td>\n",
              "      <td>Iris-virginica</td>\n",
              "    </tr>\n",
              "    <tr>\n",
              "      <th>121</th>\n",
              "      <td>7.7</td>\n",
              "      <td>2.8</td>\n",
              "      <td>6.7</td>\n",
              "      <td>2.0</td>\n",
              "      <td>Iris-virginica</td>\n",
              "    </tr>\n",
              "    <tr>\n",
              "      <th>134</th>\n",
              "      <td>7.7</td>\n",
              "      <td>3.0</td>\n",
              "      <td>6.1</td>\n",
              "      <td>2.3</td>\n",
              "      <td>Iris-virginica</td>\n",
              "    </tr>\n",
              "    <tr>\n",
              "      <th>116</th>\n",
              "      <td>7.7</td>\n",
              "      <td>3.8</td>\n",
              "      <td>6.7</td>\n",
              "      <td>2.2</td>\n",
              "      <td>Iris-virginica</td>\n",
              "    </tr>\n",
              "    <tr>\n",
              "      <th>130</th>\n",
              "      <td>7.9</td>\n",
              "      <td>3.8</td>\n",
              "      <td>6.4</td>\n",
              "      <td>2.0</td>\n",
              "      <td>Iris-virginica</td>\n",
              "    </tr>\n",
              "  </tbody>\n",
              "</table>\n",
              "<p>149 rows × 5 columns</p>\n",
              "</div>"
            ],
            "text/plain": [
              "     sepals_length  sepals_width  petals_length  petals_width         species\n",
              "12             4.3           3.0            1.1           0.1     Iris-setosa\n",
              "7              4.4           2.9            1.4           0.2     Iris-setosa\n",
              "37             4.4           3.0            1.3           0.2     Iris-setosa\n",
              "41             4.4           3.2            1.3           0.2     Iris-setosa\n",
              "40             4.5           2.3            1.3           0.3     Iris-setosa\n",
              "..             ...           ...            ...           ...             ...\n",
              "117            7.7           2.6            6.9           2.3  Iris-virginica\n",
              "121            7.7           2.8            6.7           2.0  Iris-virginica\n",
              "134            7.7           3.0            6.1           2.3  Iris-virginica\n",
              "116            7.7           3.8            6.7           2.2  Iris-virginica\n",
              "130            7.9           3.8            6.4           2.0  Iris-virginica\n",
              "\n",
              "[149 rows x 5 columns]"
            ]
          },
          "execution_count": 28,
          "metadata": {},
          "output_type": "execute_result"
        }
      ],
      "source": [
        "%time iris_df.sort_values(['sepals_length', 'sepals_width']) "
      ]
    },
    {
      "cell_type": "code",
      "execution_count": 29,
      "metadata": {
        "id": "IbQ1Wuqc06qQ"
      },
      "outputs": [
        {
          "name": "stdout",
          "output_type": "stream",
          "text": [
            "CAS-ADS-M1-D1-2022-Intro.pptx\n",
            "Data Acquisition and Management_230823.pptx\n",
            "M1_D1_DM.ipynb\n",
            "iris.csv\n"
          ]
        }
      ],
      "source": [
        "# list the file in your current directory with the linux command ls\n",
        "%ls"
      ]
    },
    {
      "cell_type": "markdown",
      "metadata": {
        "id": "vdiSXL6rXYI3"
      },
      "source": [
        "Here is a cheat sheet for common linux commands: https://files.fosswire.com/2007/08/fwunixref.pdf"
      ]
    },
    {
      "cell_type": "markdown",
      "metadata": {
        "id": "d6I2Xd1d06qQ"
      },
      "source": [
        "### 5. Filtering on a DataFrame\n",
        "..."
      ]
    },
    {
      "cell_type": "code",
      "execution_count": 40,
      "metadata": {
        "id": "XYCwukeI06qR"
      },
      "outputs": [
        {
          "data": {
            "text/plain": [
              "0      False\n",
              "1      False\n",
              "2      False\n",
              "3      False\n",
              "4       True\n",
              "       ...  \n",
              "144     True\n",
              "145     True\n",
              "146     True\n",
              "147     True\n",
              "148     True\n",
              "Name: sepals_length, Length: 149, dtype: bool"
            ]
          },
          "execution_count": 40,
          "metadata": {},
          "output_type": "execute_result"
        }
      ],
      "source": [
        "# Create a dataframe with a one column telling if slength is larger than 5.0\n",
        "iris_df['sepals_length'].astype('float')>5.0"
      ]
    },
    {
      "cell_type": "code",
      "execution_count": 41,
      "metadata": {
        "id": "qjnWw_T406qR"
      },
      "outputs": [],
      "source": [
        "# We can apply the filtering result to a new dataframe\n",
        "df_large = iris_df[iris_df['sepals_length'].astype('float')>5.0]"
      ]
    },
    {
      "cell_type": "code",
      "execution_count": 42,
      "metadata": {
        "id": "6Widtyr806qR"
      },
      "outputs": [
        {
          "data": {
            "text/html": [
              "<div>\n",
              "<style scoped>\n",
              "    .dataframe tbody tr th:only-of-type {\n",
              "        vertical-align: middle;\n",
              "    }\n",
              "\n",
              "    .dataframe tbody tr th {\n",
              "        vertical-align: top;\n",
              "    }\n",
              "\n",
              "    .dataframe thead th {\n",
              "        text-align: right;\n",
              "    }\n",
              "</style>\n",
              "<table border=\"1\" class=\"dataframe\">\n",
              "  <thead>\n",
              "    <tr style=\"text-align: right;\">\n",
              "      <th></th>\n",
              "      <th>sepals_length</th>\n",
              "      <th>sepals_width</th>\n",
              "      <th>petals_length</th>\n",
              "      <th>petals_width</th>\n",
              "      <th>species</th>\n",
              "      <th>slength &gt; 5.0</th>\n",
              "    </tr>\n",
              "  </thead>\n",
              "  <tbody>\n",
              "    <tr>\n",
              "      <th>4</th>\n",
              "      <td>5.4</td>\n",
              "      <td>3.9</td>\n",
              "      <td>1.7</td>\n",
              "      <td>0.4</td>\n",
              "      <td>Iris-setosa</td>\n",
              "      <td>&lt;class 'bool'&gt;</td>\n",
              "    </tr>\n",
              "    <tr>\n",
              "      <th>9</th>\n",
              "      <td>5.4</td>\n",
              "      <td>3.7</td>\n",
              "      <td>1.5</td>\n",
              "      <td>0.2</td>\n",
              "      <td>Iris-setosa</td>\n",
              "      <td>&lt;class 'bool'&gt;</td>\n",
              "    </tr>\n",
              "    <tr>\n",
              "      <th>13</th>\n",
              "      <td>5.8</td>\n",
              "      <td>4.0</td>\n",
              "      <td>1.2</td>\n",
              "      <td>0.2</td>\n",
              "      <td>Iris-setosa</td>\n",
              "      <td>&lt;class 'bool'&gt;</td>\n",
              "    </tr>\n",
              "    <tr>\n",
              "      <th>14</th>\n",
              "      <td>5.7</td>\n",
              "      <td>4.4</td>\n",
              "      <td>1.5</td>\n",
              "      <td>0.4</td>\n",
              "      <td>Iris-setosa</td>\n",
              "      <td>&lt;class 'bool'&gt;</td>\n",
              "    </tr>\n",
              "    <tr>\n",
              "      <th>15</th>\n",
              "      <td>5.4</td>\n",
              "      <td>3.9</td>\n",
              "      <td>1.3</td>\n",
              "      <td>0.4</td>\n",
              "      <td>Iris-setosa</td>\n",
              "      <td>&lt;class 'bool'&gt;</td>\n",
              "    </tr>\n",
              "    <tr>\n",
              "      <th>...</th>\n",
              "      <td>...</td>\n",
              "      <td>...</td>\n",
              "      <td>...</td>\n",
              "      <td>...</td>\n",
              "      <td>...</td>\n",
              "      <td>...</td>\n",
              "    </tr>\n",
              "    <tr>\n",
              "      <th>144</th>\n",
              "      <td>6.7</td>\n",
              "      <td>3.0</td>\n",
              "      <td>5.2</td>\n",
              "      <td>2.3</td>\n",
              "      <td>Iris-virginica</td>\n",
              "      <td>&lt;class 'bool'&gt;</td>\n",
              "    </tr>\n",
              "    <tr>\n",
              "      <th>145</th>\n",
              "      <td>6.3</td>\n",
              "      <td>2.5</td>\n",
              "      <td>5.0</td>\n",
              "      <td>1.9</td>\n",
              "      <td>Iris-virginica</td>\n",
              "      <td>&lt;class 'bool'&gt;</td>\n",
              "    </tr>\n",
              "    <tr>\n",
              "      <th>146</th>\n",
              "      <td>6.5</td>\n",
              "      <td>3.0</td>\n",
              "      <td>5.2</td>\n",
              "      <td>2.0</td>\n",
              "      <td>Iris-virginica</td>\n",
              "      <td>&lt;class 'bool'&gt;</td>\n",
              "    </tr>\n",
              "    <tr>\n",
              "      <th>147</th>\n",
              "      <td>6.2</td>\n",
              "      <td>3.4</td>\n",
              "      <td>5.4</td>\n",
              "      <td>2.3</td>\n",
              "      <td>Iris-virginica</td>\n",
              "      <td>&lt;class 'bool'&gt;</td>\n",
              "    </tr>\n",
              "    <tr>\n",
              "      <th>148</th>\n",
              "      <td>5.9</td>\n",
              "      <td>3.0</td>\n",
              "      <td>5.1</td>\n",
              "      <td>1.8</td>\n",
              "      <td>Iris-virginica</td>\n",
              "      <td>&lt;class 'bool'&gt;</td>\n",
              "    </tr>\n",
              "  </tbody>\n",
              "</table>\n",
              "<p>117 rows × 6 columns</p>\n",
              "</div>"
            ],
            "text/plain": [
              "     sepals_length  sepals_width  petals_length  petals_width         species  \\\n",
              "4              5.4           3.9            1.7           0.4     Iris-setosa   \n",
              "9              5.4           3.7            1.5           0.2     Iris-setosa   \n",
              "13             5.8           4.0            1.2           0.2     Iris-setosa   \n",
              "14             5.7           4.4            1.5           0.4     Iris-setosa   \n",
              "15             5.4           3.9            1.3           0.4     Iris-setosa   \n",
              "..             ...           ...            ...           ...             ...   \n",
              "144            6.7           3.0            5.2           2.3  Iris-virginica   \n",
              "145            6.3           2.5            5.0           1.9  Iris-virginica   \n",
              "146            6.5           3.0            5.2           2.0  Iris-virginica   \n",
              "147            6.2           3.4            5.4           2.3  Iris-virginica   \n",
              "148            5.9           3.0            5.1           1.8  Iris-virginica   \n",
              "\n",
              "      slength > 5.0  \n",
              "4    <class 'bool'>  \n",
              "9    <class 'bool'>  \n",
              "13   <class 'bool'>  \n",
              "14   <class 'bool'>  \n",
              "15   <class 'bool'>  \n",
              "..              ...  \n",
              "144  <class 'bool'>  \n",
              "145  <class 'bool'>  \n",
              "146  <class 'bool'>  \n",
              "147  <class 'bool'>  \n",
              "148  <class 'bool'>  \n",
              "\n",
              "[117 rows x 6 columns]"
            ]
          },
          "execution_count": 42,
          "metadata": {},
          "output_type": "execute_result"
        }
      ],
      "source": [
        "# And print it\n",
        "df_large"
      ]
    },
    {
      "cell_type": "markdown",
      "metadata": {
        "id": "Rg_y8Ift06qR"
      },
      "source": [
        "### 6. Missing or bad data\n",
        "\n",
        "Datasets, before they are \"cleaned\", may contain missing or wrongly formated values. There are DataFrame methods to deal with this:\n",
        "\n",
        "- DataFrame.dropna([axis, how, thresh, …])\tRemove missing values.\n",
        "- DataFrame.fillna([value, method, axis, …])\tFill NA/NaN values using the specified method\n",
        "- DataFrame.replace([to_replace, value, …])\tReplace values given in to_replace with value.\n",
        "- DataFrame.interpolate([method, axis, limit, …])\tInterpolate values according to different methods.\n",
        "\n",
        "Retrieving and cleaning data is often the most time consuming part in a data science project.\n",
        "\n",
        "**My Notes**\n",
        "\n",
        "NaN = Not a number\n",
        "\n",
        "NA = Not applicable"
      ]
    },
    {
      "cell_type": "markdown",
      "metadata": {
        "id": "HN7OXDjJ06qR"
      },
      "source": [
        "### 7. Exporting dataframes (I/O)\n",
        "\n",
        "DataFrame has several export methods. (html, hdf5, ascii, excel etc). Let's write our file to a text file in a csv format."
      ]
    },
    {
      "cell_type": "code",
      "execution_count": 45,
      "metadata": {
        "id": "yhxN8bF_06qR"
      },
      "outputs": [],
      "source": [
        "df_large.to_csv('myout.txt')"
      ]
    },
    {
      "cell_type": "code",
      "execution_count": 46,
      "metadata": {
        "id": "b-27C7Vz06qR"
      },
      "outputs": [
        {
          "name": "stdout",
          "output_type": "stream",
          "text": [
            "total 11664\n",
            "-rw-r--r--@ 1 lenjachiaraflutsch  staff   484050 Aug 23 07:49 CAS-ADS-M1-D1-2022-Intro.pptx\n",
            "-rw-r--r--@ 1 lenjachiaraflutsch  staff  5386454 Aug 23 19:56 Data Acquisition and Management_230823.pptx\n",
            "-rw-r--r--@ 1 lenjachiaraflutsch  staff    77698 Aug 23 15:29 M1_D1_DM.ipynb\n",
            "-rw-r--r--@ 1 lenjachiaraflutsch  staff     4551 Aug 23 11:03 iris.csv\n",
            "-rw-r--r--  1 lenjachiaraflutsch  staff     5840 Aug 24 07:59 myout.txt\n"
          ]
        }
      ],
      "source": [
        "%ls -l"
      ]
    },
    {
      "cell_type": "markdown",
      "metadata": {
        "id": "Z-Y9fLm6YYlH"
      },
      "source": [
        "What happens with our files when we close our colab session?"
      ]
    },
    {
      "cell_type": "markdown",
      "metadata": {
        "id": "Q1No9Vhr06qS"
      },
      "source": [
        "### 8. Metadata\n",
        "\n",
        "\n",
        "Metadata is data about the data, e.g. when was it collected, under which conditions, calibration etc.\n",
        "Metadata is normally not part of the statistical data analysis, however, needed for understanding and reproducibilty.\n",
        "\n",
        "DataFrame is not really made for storing metadata (should be done separately), but one can add new attributes to a dataframe:\n"
      ]
    },
    {
      "cell_type": "code",
      "execution_count": 48,
      "metadata": {
        "id": "HQ7Q2lT306qS"
      },
      "outputs": [
        {
          "data": {
            "text/html": [
              "<div>\n",
              "<style scoped>\n",
              "    .dataframe tbody tr th:only-of-type {\n",
              "        vertical-align: middle;\n",
              "    }\n",
              "\n",
              "    .dataframe tbody tr th {\n",
              "        vertical-align: top;\n",
              "    }\n",
              "\n",
              "    .dataframe thead th {\n",
              "        text-align: right;\n",
              "    }\n",
              "</style>\n",
              "<table border=\"1\" class=\"dataframe\">\n",
              "  <thead>\n",
              "    <tr style=\"text-align: right;\">\n",
              "      <th></th>\n",
              "      <th>sepals_length</th>\n",
              "      <th>sepals_width</th>\n",
              "      <th>petals_length</th>\n",
              "      <th>petals_width</th>\n",
              "      <th>species</th>\n",
              "      <th>slength &gt; 5.0</th>\n",
              "    </tr>\n",
              "  </thead>\n",
              "  <tbody>\n",
              "    <tr>\n",
              "      <th>0</th>\n",
              "      <td>4.9</td>\n",
              "      <td>3.0</td>\n",
              "      <td>1.4</td>\n",
              "      <td>0.2</td>\n",
              "      <td>Iris-setosa</td>\n",
              "      <td>&lt;class 'bool'&gt;</td>\n",
              "    </tr>\n",
              "    <tr>\n",
              "      <th>1</th>\n",
              "      <td>4.7</td>\n",
              "      <td>3.2</td>\n",
              "      <td>1.3</td>\n",
              "      <td>0.2</td>\n",
              "      <td>Iris-setosa</td>\n",
              "      <td>&lt;class 'bool'&gt;</td>\n",
              "    </tr>\n",
              "    <tr>\n",
              "      <th>2</th>\n",
              "      <td>4.6</td>\n",
              "      <td>3.1</td>\n",
              "      <td>1.5</td>\n",
              "      <td>0.2</td>\n",
              "      <td>Iris-setosa</td>\n",
              "      <td>&lt;class 'bool'&gt;</td>\n",
              "    </tr>\n",
              "    <tr>\n",
              "      <th>3</th>\n",
              "      <td>5.0</td>\n",
              "      <td>3.6</td>\n",
              "      <td>1.4</td>\n",
              "      <td>0.2</td>\n",
              "      <td>Iris-setosa</td>\n",
              "      <td>&lt;class 'bool'&gt;</td>\n",
              "    </tr>\n",
              "    <tr>\n",
              "      <th>4</th>\n",
              "      <td>5.4</td>\n",
              "      <td>3.9</td>\n",
              "      <td>1.7</td>\n",
              "      <td>0.4</td>\n",
              "      <td>Iris-setosa</td>\n",
              "      <td>&lt;class 'bool'&gt;</td>\n",
              "    </tr>\n",
              "    <tr>\n",
              "      <th>...</th>\n",
              "      <td>...</td>\n",
              "      <td>...</td>\n",
              "      <td>...</td>\n",
              "      <td>...</td>\n",
              "      <td>...</td>\n",
              "      <td>...</td>\n",
              "    </tr>\n",
              "    <tr>\n",
              "      <th>144</th>\n",
              "      <td>6.7</td>\n",
              "      <td>3.0</td>\n",
              "      <td>5.2</td>\n",
              "      <td>2.3</td>\n",
              "      <td>Iris-virginica</td>\n",
              "      <td>&lt;class 'bool'&gt;</td>\n",
              "    </tr>\n",
              "    <tr>\n",
              "      <th>145</th>\n",
              "      <td>6.3</td>\n",
              "      <td>2.5</td>\n",
              "      <td>5.0</td>\n",
              "      <td>1.9</td>\n",
              "      <td>Iris-virginica</td>\n",
              "      <td>&lt;class 'bool'&gt;</td>\n",
              "    </tr>\n",
              "    <tr>\n",
              "      <th>146</th>\n",
              "      <td>6.5</td>\n",
              "      <td>3.0</td>\n",
              "      <td>5.2</td>\n",
              "      <td>2.0</td>\n",
              "      <td>Iris-virginica</td>\n",
              "      <td>&lt;class 'bool'&gt;</td>\n",
              "    </tr>\n",
              "    <tr>\n",
              "      <th>147</th>\n",
              "      <td>6.2</td>\n",
              "      <td>3.4</td>\n",
              "      <td>5.4</td>\n",
              "      <td>2.3</td>\n",
              "      <td>Iris-virginica</td>\n",
              "      <td>&lt;class 'bool'&gt;</td>\n",
              "    </tr>\n",
              "    <tr>\n",
              "      <th>148</th>\n",
              "      <td>5.9</td>\n",
              "      <td>3.0</td>\n",
              "      <td>5.1</td>\n",
              "      <td>1.8</td>\n",
              "      <td>Iris-virginica</td>\n",
              "      <td>&lt;class 'bool'&gt;</td>\n",
              "    </tr>\n",
              "  </tbody>\n",
              "</table>\n",
              "<p>149 rows × 6 columns</p>\n",
              "</div>"
            ],
            "text/plain": [
              "     sepals_length  sepals_width  petals_length  petals_width         species  \\\n",
              "0              4.9           3.0            1.4           0.2     Iris-setosa   \n",
              "1              4.7           3.2            1.3           0.2     Iris-setosa   \n",
              "2              4.6           3.1            1.5           0.2     Iris-setosa   \n",
              "3              5.0           3.6            1.4           0.2     Iris-setosa   \n",
              "4              5.4           3.9            1.7           0.4     Iris-setosa   \n",
              "..             ...           ...            ...           ...             ...   \n",
              "144            6.7           3.0            5.2           2.3  Iris-virginica   \n",
              "145            6.3           2.5            5.0           1.9  Iris-virginica   \n",
              "146            6.5           3.0            5.2           2.0  Iris-virginica   \n",
              "147            6.2           3.4            5.4           2.3  Iris-virginica   \n",
              "148            5.9           3.0            5.1           1.8  Iris-virginica   \n",
              "\n",
              "      slength > 5.0  \n",
              "0    <class 'bool'>  \n",
              "1    <class 'bool'>  \n",
              "2    <class 'bool'>  \n",
              "3    <class 'bool'>  \n",
              "4    <class 'bool'>  \n",
              "..              ...  \n",
              "144  <class 'bool'>  \n",
              "145  <class 'bool'>  \n",
              "146  <class 'bool'>  \n",
              "147  <class 'bool'>  \n",
              "148  <class 'bool'>  \n",
              "\n",
              "[149 rows x 6 columns]"
            ]
          },
          "execution_count": 48,
          "metadata": {},
          "output_type": "execute_result"
        }
      ],
      "source": [
        "iris_df.myinstrument_name = 'Linky'\n",
        "iris_df.myinstrument_name\n",
        "\n"
      ]
    },
    {
      "cell_type": "code",
      "execution_count": null,
      "metadata": {
        "id": "u0FTwHXVcz9s"
      },
      "outputs": [],
      "source": []
    },
    {
      "cell_type": "markdown",
      "metadata": {
        "id": "Ml-Nha8Dc5hv"
      },
      "source": [
        "Data repositories often use so-called Data Cards for metadata. See for example: https://www.kaggle.com/datasets/uciml/iris"
      ]
    },
    {
      "cell_type": "markdown",
      "metadata": {
        "id": "gm5NcJsD06qS"
      },
      "source": [
        "### 9. Working on the filesystem with the os module\n",
        "\n",
        "When managing large datasets, one often has to organise files in the file system. This includes finding them, moving and copying them, creating new folders/directories, renaming them etc. This can easily be done from Python with the os (operating system) module.\n",
        "\n",
        "Try to understand the following code and alter it to do something else."
      ]
    },
    {
      "cell_type": "code",
      "execution_count": null,
      "metadata": {
        "id": "8Td_AnJg06qS"
      },
      "outputs": [],
      "source": [
        "import os\n",
        "\n",
        "new_dir = os.getcwd() +'/newnbdir' # Get the current directory into a string, add /newnbdir to the string\n",
        "os.makedirs(new_dir) # Create the folder\n",
        "files = os.listdir() # List the files in the current folder\n",
        "nb_files = [] # Create an empty list\n",
        "for file in files:\n",
        "    if 'ipynb' in file and file[0]!='.':\n",
        "        nb_files.append(file)\n",
        "for file in nb_files:\n",
        "    os.system('cp '+file+' '+new_dir+'/')"
      ]
    },
    {
      "cell_type": "code",
      "execution_count": null,
      "metadata": {
        "id": "D0mwR_jFZsbk"
      },
      "outputs": [],
      "source": [
        "!ls -l newnbdir"
      ]
    },
    {
      "cell_type": "markdown",
      "metadata": {
        "id": "aCEPcsaf06qS"
      },
      "source": [
        "### Exercise 3 (this we may skip if not enough time)\n",
        "\n",
        "Read in the iris dataset from iris.csv into a dataframe. Set the values in column 1 in row 39, 49 and 100 to NaN (use the nan method from the numpy package). Then replacethe NaN values to the average value of the respective column. Depending on how you do it, this may be about 10 lines of Python code."
      ]
    },
    {
      "cell_type": "code",
      "execution_count": null,
      "metadata": {
        "id": "X9VczUOG06qS"
      },
      "outputs": [],
      "source": [
        "# Solve your exercise here\n"
      ]
    },
    {
      "cell_type": "markdown",
      "metadata": {
        "id": "8MZXt0ei06qT"
      },
      "source": [
        "### Exercise 4\n",
        "\n",
        "Print a sorted list of the weeks and the male deadths with COVID-19 in Switzerland. The weeks with the highest numbers should appear first. This should be doable with about 10 lines of Python. You may need 30 minutes to solve this one.\n"
      ]
    },
    {
      "cell_type": "code",
      "execution_count": null,
      "metadata": {
        "id": "7UPCsexM06qT"
      },
      "outputs": [],
      "source": [
        "import pandas as pd\n",
        "#url = 'https://www.covid19.admin.ch/api/data/20210824-jrvdp23s/sources/COVID19Test_geoRegion_all.json'\n",
        "#df_cov = pd.io.json.read_json(url)\n",
        "#url = 'https://www.covid19.admin.ch/api/data/20210824-jrvdp23s/sources/COVID19Death_geoRegion_sex_w.csv'\n",
        "url = 'https://www.covid19.admin.ch/api/data/20230815-7ixiby4u/sources/COVID19Death_geoRegion_sex_w.csv'\n",
        "\n"
      ]
    },
    {
      "cell_type": "code",
      "execution_count": null,
      "metadata": {
        "id": "0G9RWCiH3DLC"
      },
      "outputs": [],
      "source": []
    },
    {
      "cell_type": "markdown",
      "metadata": {
        "id": "1yOZYAHG06qT"
      },
      "source": [
        "# End of today - please fill this form\n",
        "\n",
        "https://forms.gle/bzDpGLUieVnheZUi6.\n",
        "Have a nice evening and see you tomorrow."
      ]
    },
    {
      "cell_type": "code",
      "execution_count": null,
      "metadata": {
        "id": "wvGsChGa06qT"
      },
      "outputs": [],
      "source": []
    },
    {
      "cell_type": "code",
      "execution_count": null,
      "metadata": {
        "id": "vPndicDx06qT"
      },
      "outputs": [],
      "source": []
    }
  ],
  "metadata": {
    "colab": {
      "include_colab_link": true,
      "provenance": []
    },
    "kernelspec": {
      "display_name": "Python 3",
      "language": "python",
      "name": "python3"
    },
    "language_info": {
      "codemirror_mode": {
        "name": "ipython",
        "version": 3
      },
      "file_extension": ".py",
      "mimetype": "text/x-python",
      "name": "python",
      "nbconvert_exporter": "python",
      "pygments_lexer": "ipython3",
      "version": "3.11.4"
    }
  },
  "nbformat": 4,
  "nbformat_minor": 0
}
